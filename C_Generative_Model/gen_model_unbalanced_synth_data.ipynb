{
 "cells": [
  {
   "cell_type": "code",
   "execution_count": 1,
   "metadata": {},
   "outputs": [],
   "source": [
    "import pandas as pd\n",
    "import nltk\n",
    "# nltk.download('all')\n",
    "import re\n",
    "import numpy as np\n",
    "import collections\n",
    "import sklearn as sk\n",
    "import string\n",
    "from nltk.corpus import stopwords\n",
    "from wordcloud import WordCloud, STOPWORDS\n",
    "stopwords = set(STOPWORDS)"
   ]
  },
  {
   "cell_type": "code",
   "execution_count": 2,
   "metadata": {},
   "outputs": [
    {
     "data": {
      "text/html": [
       "<div>\n",
       "<style scoped>\n",
       "    .dataframe tbody tr th:only-of-type {\n",
       "        vertical-align: middle;\n",
       "    }\n",
       "\n",
       "    .dataframe tbody tr th {\n",
       "        vertical-align: top;\n",
       "    }\n",
       "\n",
       "    .dataframe thead th {\n",
       "        text-align: right;\n",
       "    }\n",
       "</style>\n",
       "<table border=\"1\" class=\"dataframe\">\n",
       "  <thead>\n",
       "    <tr style=\"text-align: right;\">\n",
       "      <th></th>\n",
       "      <th>Review</th>\n",
       "      <th>Recommended or Not Recommended</th>\n",
       "    </tr>\n",
       "  </thead>\n",
       "  <tbody>\n",
       "    <tr>\n",
       "      <th>0</th>\n",
       "      <td>idols hex scifistoryelements airborne underwor...</td>\n",
       "      <td>True</td>\n",
       "    </tr>\n",
       "    <tr>\n",
       "      <th>1</th>\n",
       "      <td>ablazing ｉｔｓ alanah дрянь ammunition unbreakab...</td>\n",
       "      <td>True</td>\n",
       "    </tr>\n",
       "    <tr>\n",
       "      <th>2</th>\n",
       "      <td>doubletapping overcrowded critiquer minesweepe...</td>\n",
       "      <td>True</td>\n",
       "    </tr>\n",
       "    <tr>\n",
       "      <th>3</th>\n",
       "      <td>puffing mild miniboss vybouchnou selected bonl...</td>\n",
       "      <td>True</td>\n",
       "    </tr>\n",
       "    <tr>\n",
       "      <th>4</th>\n",
       "      <td>rapid bpoliceb seeen contagion whazoo</td>\n",
       "      <td>True</td>\n",
       "    </tr>\n",
       "    <tr>\n",
       "      <th>...</th>\n",
       "      <td>...</td>\n",
       "      <td>...</td>\n",
       "    </tr>\n",
       "    <tr>\n",
       "      <th>16570</th>\n",
       "      <td>gathering acording damagedealing hquests guide...</td>\n",
       "      <td>False</td>\n",
       "    </tr>\n",
       "    <tr>\n",
       "      <th>16571</th>\n",
       "      <td>ghameplay houdini viks chews planed ao corpotr...</td>\n",
       "      <td>False</td>\n",
       "    </tr>\n",
       "    <tr>\n",
       "      <th>16572</th>\n",
       "      <td>oldgen excelentes httpswwwyoutubecomwatchvzfrc...</td>\n",
       "      <td>False</td>\n",
       "    </tr>\n",
       "    <tr>\n",
       "      <th>16573</th>\n",
       "      <td>preferência fixespolish compli platoon caminan...</td>\n",
       "      <td>False</td>\n",
       "    </tr>\n",
       "    <tr>\n",
       "      <th>16574</th>\n",
       "      <td>astronomical boards httpsyoutubetowfeueaeeqt p...</td>\n",
       "      <td>False</td>\n",
       "    </tr>\n",
       "  </tbody>\n",
       "</table>\n",
       "<p>16575 rows × 2 columns</p>\n",
       "</div>"
      ],
      "text/plain": [
       "                                                  Review  \\\n",
       "0      idols hex scifistoryelements airborne underwor...   \n",
       "1      ablazing ｉｔｓ alanah дрянь ammunition unbreakab...   \n",
       "2      doubletapping overcrowded critiquer minesweepe...   \n",
       "3      puffing mild miniboss vybouchnou selected bonl...   \n",
       "4                  rapid bpoliceb seeen contagion whazoo   \n",
       "...                                                  ...   \n",
       "16570  gathering acording damagedealing hquests guide...   \n",
       "16571  ghameplay houdini viks chews planed ao corpotr...   \n",
       "16572  oldgen excelentes httpswwwyoutubecomwatchvzfrc...   \n",
       "16573  preferência fixespolish compli platoon caminan...   \n",
       "16574  astronomical boards httpsyoutubetowfeueaeeqt p...   \n",
       "\n",
       "       Recommended or Not Recommended  \n",
       "0                                True  \n",
       "1                                True  \n",
       "2                                True  \n",
       "3                                True  \n",
       "4                                True  \n",
       "...                               ...  \n",
       "16570                           False  \n",
       "16571                           False  \n",
       "16572                           False  \n",
       "16573                           False  \n",
       "16574                           False  \n",
       "\n",
       "[16575 rows x 2 columns]"
      ]
     },
     "execution_count": 2,
     "metadata": {},
     "output_type": "execute_result"
    }
   ],
   "source": [
    "# df = pd.read_csv(\"../B_Data_Cleaning/synthetic_reviews_all.csv\")\n",
    "df = pd.read_csv(\"../B_Data_Cleaning/synthetic_reviews_all_trial_1.csv\")\n",
    "df[\"Review\"] = df[\"Review\"].astype(\"str\")\n",
    "df"
   ]
  },
  {
   "cell_type": "code",
   "execution_count": 3,
   "metadata": {},
   "outputs": [
    {
     "data": {
      "text/plain": [
       "False    16575\n",
       "Name: Review, dtype: int64"
      ]
     },
     "execution_count": 3,
     "metadata": {},
     "output_type": "execute_result"
    }
   ],
   "source": [
    "# Checking the length of all the reviews\n",
    "(df[\"Review\"]=='').value_counts()"
   ]
  },
  {
   "cell_type": "code",
   "execution_count": 4,
   "metadata": {},
   "outputs": [
    {
     "data": {
      "text/html": [
       "<div>\n",
       "<style scoped>\n",
       "    .dataframe tbody tr th:only-of-type {\n",
       "        vertical-align: middle;\n",
       "    }\n",
       "\n",
       "    .dataframe tbody tr th {\n",
       "        vertical-align: top;\n",
       "    }\n",
       "\n",
       "    .dataframe thead th {\n",
       "        text-align: right;\n",
       "    }\n",
       "</style>\n",
       "<table border=\"1\" class=\"dataframe\">\n",
       "  <thead>\n",
       "    <tr style=\"text-align: right;\">\n",
       "      <th></th>\n",
       "      <th>Review</th>\n",
       "      <th>Recommended or Not Recommended</th>\n",
       "      <th>set_column</th>\n",
       "    </tr>\n",
       "  </thead>\n",
       "  <tbody>\n",
       "    <tr>\n",
       "      <th>0</th>\n",
       "      <td>idols hex scifistoryelements airborne underwor...</td>\n",
       "      <td>True</td>\n",
       "      <td>{квесты, crashed, versitile, racingsim, sentim...</td>\n",
       "    </tr>\n",
       "    <tr>\n",
       "      <th>1</th>\n",
       "      <td>ablazing ｉｔｓ alanah дрянь ammunition unbreakab...</td>\n",
       "      <td>True</td>\n",
       "      <td>{systemu, polska, allows, locked, grafics, beh...</td>\n",
       "    </tr>\n",
       "    <tr>\n",
       "      <th>2</th>\n",
       "      <td>doubletapping overcrowded critiquer minesweepe...</td>\n",
       "      <td>True</td>\n",
       "      <td>{npcplayer, makeshift, goings, tease, zabít, c...</td>\n",
       "    </tr>\n",
       "    <tr>\n",
       "      <th>3</th>\n",
       "      <td>puffing mild miniboss vybouchnou selected bonl...</td>\n",
       "      <td>True</td>\n",
       "      <td>{diverging, teemage, godlike, instadeath, bhad...</td>\n",
       "    </tr>\n",
       "    <tr>\n",
       "      <th>4</th>\n",
       "      <td>rapid bpoliceb seeen contagion whazoo</td>\n",
       "      <td>True</td>\n",
       "      <td>{contagion, bpoliceb, rapid, whazoo, seeen}</td>\n",
       "    </tr>\n",
       "    <tr>\n",
       "      <th>...</th>\n",
       "      <td>...</td>\n",
       "      <td>...</td>\n",
       "      <td>...</td>\n",
       "    </tr>\n",
       "    <tr>\n",
       "      <th>16570</th>\n",
       "      <td>gathering acording damagedealing hquests guide...</td>\n",
       "      <td>False</td>\n",
       "      <td>{absurde, ويتشر, boba, salvage, frustratingly,...</td>\n",
       "    </tr>\n",
       "    <tr>\n",
       "      <th>16571</th>\n",
       "      <td>ghameplay houdini viks chews planed ao corpotr...</td>\n",
       "      <td>False</td>\n",
       "      <td>{alerting, angly, houdini, interconnect, hscal...</td>\n",
       "    </tr>\n",
       "    <tr>\n",
       "      <th>16572</th>\n",
       "      <td>oldgen excelentes httpswwwyoutubecomwatchvzfrc...</td>\n",
       "      <td>False</td>\n",
       "      <td>{steam, skilledlethal, salvage, clipstrailers,...</td>\n",
       "    </tr>\n",
       "    <tr>\n",
       "      <th>16573</th>\n",
       "      <td>preferência fixespolish compli platoon caminan...</td>\n",
       "      <td>False</td>\n",
       "      <td>{subject, coins, dye, murder, arrives, funded,...</td>\n",
       "    </tr>\n",
       "    <tr>\n",
       "      <th>16574</th>\n",
       "      <td>astronomical boards httpsyoutubetowfeueaeeqt p...</td>\n",
       "      <td>False</td>\n",
       "      <td>{plowing, girlfriend, seethrough, offhand, eal...</td>\n",
       "    </tr>\n",
       "  </tbody>\n",
       "</table>\n",
       "<p>16575 rows × 3 columns</p>\n",
       "</div>"
      ],
      "text/plain": [
       "                                                  Review  \\\n",
       "0      idols hex scifistoryelements airborne underwor...   \n",
       "1      ablazing ｉｔｓ alanah дрянь ammunition unbreakab...   \n",
       "2      doubletapping overcrowded critiquer minesweepe...   \n",
       "3      puffing mild miniboss vybouchnou selected bonl...   \n",
       "4                  rapid bpoliceb seeen contagion whazoo   \n",
       "...                                                  ...   \n",
       "16570  gathering acording damagedealing hquests guide...   \n",
       "16571  ghameplay houdini viks chews planed ao corpotr...   \n",
       "16572  oldgen excelentes httpswwwyoutubecomwatchvzfrc...   \n",
       "16573  preferência fixespolish compli platoon caminan...   \n",
       "16574  astronomical boards httpsyoutubetowfeueaeeqt p...   \n",
       "\n",
       "       Recommended or Not Recommended  \\\n",
       "0                                True   \n",
       "1                                True   \n",
       "2                                True   \n",
       "3                                True   \n",
       "4                                True   \n",
       "...                               ...   \n",
       "16570                           False   \n",
       "16571                           False   \n",
       "16572                           False   \n",
       "16573                           False   \n",
       "16574                           False   \n",
       "\n",
       "                                              set_column  \n",
       "0      {квесты, crashed, versitile, racingsim, sentim...  \n",
       "1      {systemu, polska, allows, locked, grafics, beh...  \n",
       "2      {npcplayer, makeshift, goings, tease, zabít, c...  \n",
       "3      {diverging, teemage, godlike, instadeath, bhad...  \n",
       "4            {contagion, bpoliceb, rapid, whazoo, seeen}  \n",
       "...                                                  ...  \n",
       "16570  {absurde, ويتشر, boba, salvage, frustratingly,...  \n",
       "16571  {alerting, angly, houdini, interconnect, hscal...  \n",
       "16572  {steam, skilledlethal, salvage, clipstrailers,...  \n",
       "16573  {subject, coins, dye, murder, arrives, funded,...  \n",
       "16574  {plowing, girlfriend, seethrough, offhand, eal...  \n",
       "\n",
       "[16575 rows x 3 columns]"
      ]
     },
     "execution_count": 4,
     "metadata": {},
     "output_type": "execute_result"
    }
   ],
   "source": [
    "# make a set_column to count the number of words in each review\n",
    "df[\"set_column\"] = df[\"Review\"].apply(lambda x: set(x.split()))\n",
    "df"
   ]
  },
  {
   "cell_type": "code",
   "execution_count": 5,
   "metadata": {},
   "outputs": [],
   "source": [
    "# split the data into train and test\n",
    "train, test = sk.model_selection.train_test_split(df, test_size=0.33, random_state=42)"
   ]
  },
  {
   "cell_type": "code",
   "execution_count": 6,
   "metadata": {},
   "outputs": [],
   "source": [
    "# Dividing dataset into recommended and not recommended\n",
    "df_recom = train.loc[train[\"Recommended or Not Recommended\"] == True,:]\n",
    "df_recom = df_recom.reset_index(drop=True)\n",
    "\n",
    "df_not_recom = train.loc[train[\"Recommended or Not Recommended\"] == False,:]\n",
    "df_not_recom = df_not_recom.reset_index(drop=True)"
   ]
  },
  {
   "cell_type": "code",
   "execution_count": 7,
   "metadata": {},
   "outputs": [],
   "source": [
    "# This is to make the set dictionary\n",
    "# count how many times each word appears in the reviews\n",
    "bow_recom_temp = collections.Counter([y for x in df_recom.set_column for y in x])\n",
    "bow_not_recom_temp = collections.Counter([y for x in df_not_recom.set_column for y in x])\n",
    "\n",
    "bow_recom_set = dict(bow_recom_temp)\n",
    "bow_not_recom_set = dict(bow_not_recom_temp)\n",
    "\n",
    "for key in bow_recom_set:\n",
    "    if key not in bow_not_recom_set:\n",
    "        bow_not_recom_set[key] = 0\n",
    "        pass\n",
    "    else:\n",
    "        pass\n",
    "\n",
    "for key in bow_not_recom_set:\n",
    "    if key not in bow_recom_set:\n",
    "        bow_recom_set[key] = 0\n",
    "        pass\n",
    "    else:\n",
    "        pass\n",
    "\n",
    "for key in bow_recom_set:\n",
    "    bow_recom_set[key] += 1\n",
    "\n",
    "for key in bow_not_recom_set:\n",
    "    bow_not_recom_set[key] += 1\n"
   ]
  },
  {
   "cell_type": "code",
   "execution_count": 8,
   "metadata": {},
   "outputs": [],
   "source": [
    "# This is to make the list dictionary\n",
    "# count how many times each word appears in the reviews\n",
    "bow_recom = collections.Counter([y for x in df_recom.Review for y in x.split()])\n",
    "bow_not_recom = collections.Counter([y for x in df_not_recom.Review for y in x.split()])\n",
    "\n",
    "bow_recom_dict = dict(bow_recom)\n",
    "bow_not_recom_dict = dict(bow_not_recom)\n",
    "\n",
    "for key in bow_recom_dict:\n",
    "    if key not in bow_not_recom_dict:\n",
    "        bow_not_recom_dict[key] = 0\n",
    "        pass\n",
    "    else:\n",
    "        pass\n",
    "\n",
    "for key in bow_not_recom_dict:\n",
    "    if key not in bow_recom_dict:\n",
    "        bow_recom_dict[key] = 0\n",
    "        pass\n",
    "    else:\n",
    "        pass\n",
    "\n",
    "for key in bow_recom_dict:\n",
    "    bow_recom_dict[key] += 1\n",
    "\n",
    "for key in bow_not_recom_dict:\n",
    "    bow_not_recom_dict[key] += 1\n",
    "    "
   ]
  },
  {
   "cell_type": "code",
   "execution_count": 9,
   "metadata": {},
   "outputs": [],
   "source": [
    "bow_recom_sum_vals = sum(bow_recom_dict.values())\n",
    "bow_not_recom_sum_vals = sum(bow_not_recom_dict.values())\n",
    "\n",
    "for i in bow_recom_dict:\n",
    "\n",
    "    bow_recom_dict[i] /= bow_recom_sum_vals\n",
    "\n",
    "for i in bow_not_recom_dict:\n",
    "\n",
    "    bow_not_recom_dict[i] /= bow_not_recom_sum_vals"
   ]
  },
  {
   "cell_type": "code",
   "execution_count": 10,
   "metadata": {},
   "outputs": [],
   "source": [
    "assert len(bow_recom_dict) == len(bow_not_recom_dict)\n",
    "assert len(bow_recom_set) == len(bow_not_recom_set)"
   ]
  },
  {
   "cell_type": "code",
   "execution_count": 11,
   "metadata": {},
   "outputs": [],
   "source": [
    "test.drop(columns=[\"set_column\"], inplace=True)"
   ]
  },
  {
   "cell_type": "code",
   "execution_count": 12,
   "metadata": {},
   "outputs": [],
   "source": [
    "def define_sentiment(element, test_all=False, test_only_tf_abs=False, test_only_idf_abs=False, test_only_prob=False, test_all_abs=False):\n",
    "\n",
    "    \"\"\"This function takes a review and returns the label for that review\"\"\"\n",
    "\n",
    "    full_shape = df.shape[0]\n",
    "    positive_review_probabiliy = len(df_recom)/full_shape\n",
    "    negative_review_probabiliy = len(df_not_recom)/full_shape\n",
    "    \n",
    "    df_choices_positive = [positive_review_probabiliy, bow_recom_set, bow_recom_dict, df_recom]\n",
    "    df_choices_negative = [negative_review_probabiliy ,bow_not_recom_set, bow_not_recom_dict, df_not_recom]\n",
    "\n",
    "    def classifier(element, your_class = 'positive'):\n",
    "        flag = {}\n",
    "        flag_count = 0\n",
    "        if your_class == 'positive':\n",
    "            df_choices = df_choices_positive\n",
    "        else:\n",
    "            df_choices = df_choices_negative\n",
    "        prob_of_class = df_choices[0]/full_shape\n",
    "        score = 1 * prob_of_class\n",
    "        score = float(format(score, '.12f'))\n",
    "        # score = 0.1\n",
    "        for i in element.split():\n",
    "            if i not in df_choices[2].keys():\n",
    "                pass\n",
    "            else:\n",
    "                prob_word_given_class = (df_choices[2])[i]\n",
    "                prob_word_given_class = float(format(prob_word_given_class, '.12f'))\n",
    "                # Almost the same value, given our spin on this application. \n",
    "                # Normally, this term frequency would be calculated differently across the positive and negative documents\n",
    "                # but we are only looking at the reviews as the documents themselves to determine a word's relevance in the positive\n",
    "                # or negative corpus. \n",
    "                tf = np.log(prob_word_given_class)\n",
    "                # tf = float(format(tf, '.12f'))\n",
    "                # tf = abs(np.log(prob_word_given_class))\n",
    "                # The IDF is the number of reviews / the number of reviews that contain the word in that given corpus\n",
    "                # idf = abs(np.log(df_choices[3].shape[0]/(df_choices[1])[i]))\n",
    "                idf = np.log(df_choices[3].shape[0]/(df_choices[1])[i])\n",
    "                # idf = float(format(idf, '.12f'))\n",
    "                if test_all:\n",
    "                    score *= prob_word_given_class*tf*idf\n",
    "                elif test_only_tf_abs:\n",
    "                    score *= prob_word_given_class*tf\n",
    "                    score = abs(score)\n",
    "                elif test_only_idf_abs:\n",
    "                    score *= prob_word_given_class*idf\n",
    "                    score = abs(score)\n",
    "                elif test_only_prob:\n",
    "                    score *= prob_word_given_class\n",
    "                elif test_all_abs:\n",
    "                    score *= prob_word_given_class*tf*idf\n",
    "                    score = abs(score)\n",
    "\n",
    "                if score < 0:\n",
    "                    flag[flag_count] = (score, your_class)\n",
    "                    # print(flag_count,i)\n",
    "                    flag_count += 1\n",
    "                    # return 'Flag'\n",
    "\n",
    "\n",
    "        return score\n",
    "    positive_score = classifier(element, 'positive')\n",
    "    negative_score = classifier(element, 'negative')\n",
    "    if positive_score > negative_score:\n",
    "        return True\n",
    "    elif positive_score == negative_score:\n",
    "        # Choosing an arbitrary value, because we assume that a review with one or few words of little substance\n",
    "        # is implied to be negative, as is usual with netizens. \n",
    "        return False\n",
    "    else:\n",
    "        return False"
   ]
  },
  {
   "cell_type": "code",
   "execution_count": 13,
   "metadata": {},
   "outputs": [],
   "source": [
    "test[\"score_all\"] = test.Review.apply(define_sentiment, test_all=True)\n",
    "test[\"score_tf\"] = test.Review.apply(define_sentiment, test_only_tf_abs=True)\n",
    "test[\"score_idf\"] = test.Review.apply(define_sentiment, test_only_idf_abs=True)\n",
    "test[\"score_freq\"] = test.Review.apply(define_sentiment, test_only_prob=True)\n",
    "test[\"score_mod_all\"] = test.Review.apply(define_sentiment, test_all_abs=True)"
   ]
  },
  {
   "cell_type": "code",
   "execution_count": 14,
   "metadata": {},
   "outputs": [
    {
     "name": "stdout",
     "output_type": "stream",
     "text": [
      "This is the result with the word 'cyberpunk' included in the corpus:\n",
      "This is our accuracy for (unbalanced) synthetic data with all the formula: 46.58%\n",
      "This is our accuracy for (unbalanced) synthetic data with only class probability, frequency, and absolute value of TF: 86.01%\n",
      "This is our accuracy for (unbalanced) synthetic data with only class probability, frequency, and absolute value of IDF: 85.34%\n",
      "This is our accuracy for (unbalanced) synthetic data with only class probability and frequency: 83.13%\n",
      "This is our accuracy for (unbalanced) synthetic data with all the formula, but with the absolute value of the score: 88.88%\n"
     ]
    }
   ],
   "source": [
    "print(\"This is the result with the word 'cyberpunk' included in the corpus:\")\n",
    "print(f\"This is our accuracy for (unbalanced) synthetic data with all the formula: {(sum(test['Recommended or Not Recommended'] == test['score_all'])/test.shape[0])*100:.2f}%\")\n",
    "print(f\"This is our accuracy for (unbalanced) synthetic data with only class probability, frequency, and absolute value of TF: {(sum(test['Recommended or Not Recommended'] == test['score_tf'])/test.shape[0])*100:.2f}%\")\n",
    "print(f\"This is our accuracy for (unbalanced) synthetic data with only class probability, frequency, and absolute value of IDF: {(sum(test['Recommended or Not Recommended'] == test['score_idf'])/test.shape[0])*100:.2f}%\")\n",
    "print(f\"This is our accuracy for (unbalanced) synthetic data with only class probability and frequency: {(sum(test['Recommended or Not Recommended'] == test['score_freq'])/test.shape[0])*100:.2f}%\")\n",
    "print(f\"This is our accuracy for (unbalanced) synthetic data with all the formula, but with the absolute value of the score: {(sum(test['Recommended or Not Recommended'] == test['score_mod_all'])/test.shape[0])*100:.2f}%\")"
   ]
  },
  {
   "cell_type": "code",
   "execution_count": 15,
   "metadata": {},
   "outputs": [
    {
     "name": "stdout",
     "output_type": "stream",
     "text": [
      "              precision    recall  f1-score   support\n",
      "\n",
      "       False       0.33      0.60      0.43      1805\n",
      "        True       0.67      0.40      0.50      3665\n",
      "\n",
      "    accuracy                           0.47      5470\n",
      "   macro avg       0.50      0.50      0.46      5470\n",
      "weighted avg       0.56      0.47      0.48      5470\n",
      "\n"
     ]
    }
   ],
   "source": [
    "# Generate a confusion matrix\n",
    "from sklearn.metrics import confusion_matrix\n",
    "confusion_matrix(test['Recommended or Not Recommended'], test['score_all'])\n",
    "# Generate a classification report\n",
    "from sklearn.metrics import classification_report\n",
    "print(classification_report(test['Recommended or Not Recommended'], test['score_all']))\n"
   ]
  },
  {
   "cell_type": "code",
   "execution_count": 16,
   "metadata": {},
   "outputs": [
    {
     "name": "stdout",
     "output_type": "stream",
     "text": [
      "              precision    recall  f1-score   support\n",
      "\n",
      "       False       0.71      0.97      0.82      1805\n",
      "        True       0.98      0.81      0.89      3665\n",
      "\n",
      "    accuracy                           0.86      5470\n",
      "   macro avg       0.85      0.89      0.85      5470\n",
      "weighted avg       0.89      0.86      0.86      5470\n",
      "\n"
     ]
    }
   ],
   "source": [
    "# Generate a confusion matrix\n",
    "from sklearn.metrics import confusion_matrix\n",
    "confusion_matrix(test['Recommended or Not Recommended'], test['score_tf'])\n",
    "# Generate a classification report\n",
    "from sklearn.metrics import classification_report\n",
    "print(classification_report(test['Recommended or Not Recommended'], test['score_tf']))\n"
   ]
  },
  {
   "cell_type": "code",
   "execution_count": 17,
   "metadata": {},
   "outputs": [
    {
     "name": "stdout",
     "output_type": "stream",
     "text": [
      "              precision    recall  f1-score   support\n",
      "\n",
      "       False       0.70      0.96      0.81      1805\n",
      "        True       0.98      0.80      0.88      3665\n",
      "\n",
      "    accuracy                           0.85      5470\n",
      "   macro avg       0.84      0.88      0.85      5470\n",
      "weighted avg       0.89      0.85      0.86      5470\n",
      "\n"
     ]
    }
   ],
   "source": [
    "# Generate a confusion matrix\n",
    "from sklearn.metrics import confusion_matrix\n",
    "confusion_matrix(test['Recommended or Not Recommended'], test['score_idf'])\n",
    "# Generate a classification report\n",
    "from sklearn.metrics import classification_report\n",
    "print(classification_report(test['Recommended or Not Recommended'], test['score_idf']))\n"
   ]
  },
  {
   "cell_type": "code",
   "execution_count": 18,
   "metadata": {},
   "outputs": [
    {
     "name": "stdout",
     "output_type": "stream",
     "text": [
      "              precision    recall  f1-score   support\n",
      "\n",
      "       False       0.67      0.97      0.79      1805\n",
      "        True       0.98      0.76      0.86      3665\n",
      "\n",
      "    accuracy                           0.83      5470\n",
      "   macro avg       0.82      0.87      0.82      5470\n",
      "weighted avg       0.88      0.83      0.84      5470\n",
      "\n"
     ]
    }
   ],
   "source": [
    "# Generate a confusion matrix\n",
    "from sklearn.metrics import confusion_matrix\n",
    "confusion_matrix(test['Recommended or Not Recommended'], test['score_freq'])\n",
    "# Generate a classification report\n",
    "from sklearn.metrics import classification_report\n",
    "print(classification_report(test['Recommended or Not Recommended'], test['score_freq']))\n"
   ]
  }
 ],
 "metadata": {
  "kernelspec": {
   "display_name": "Python 3",
   "language": "python",
   "name": "python3"
  },
  "language_info": {
   "codemirror_mode": {
    "name": "ipython",
    "version": 3
   },
   "file_extension": ".py",
   "mimetype": "text/x-python",
   "name": "python",
   "nbconvert_exporter": "python",
   "pygments_lexer": "ipython3",
   "version": "3.10.4"
  },
  "orig_nbformat": 4,
  "vscode": {
   "interpreter": {
    "hash": "3ad933181bd8a04b432d3370b9dc3b0662ad032c4dfaa4e4f1596c548f763858"
   }
  }
 },
 "nbformat": 4,
 "nbformat_minor": 2
}
