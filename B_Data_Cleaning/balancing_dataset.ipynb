{
 "cells": [
  {
   "cell_type": "code",
   "execution_count": null,
   "metadata": {},
   "outputs": [],
   "source": [
    "import pandas as pd"
   ]
  },
  {
   "cell_type": "code",
   "execution_count": null,
   "metadata": {},
   "outputs": [],
   "source": [
    "df = pd.read_csv(\"../A_Source_Data/cp2077_reviews.csv.zip\", compression=\"zip\")\n",
    "df[\"Review\"] = df[\"Review\"].astype(\"str\")\n",
    "df"
   ]
  },
  {
   "cell_type": "code",
   "execution_count": null,
   "metadata": {},
   "outputs": [],
   "source": [
    "# keep only 5250 reviews for each based on 'Recommended or Not Recommended\" column\n",
    "df_recom = df.loc[df[\"Recommended or Not Recommended\"] == True,:]\n",
    "df_recom = df_recom.sample(5250).reset_index(drop=True)\n",
    "\n",
    "df_not_recom = df.loc[df[\"Recommended or Not Recommended\"] == False,:]\n",
    "df_not_recom = df_not_recom.sample(5250).reset_index(drop=True)\n",
    "\n",
    "df_balance = pd.concat([df_recom, df_not_recom], axis=0).reset_index(drop=True)\n",
    "df_balance"
   ]
  }
 ],
 "metadata": {
  "kernelspec": {
   "display_name": "Python 3",
   "language": "python",
   "name": "python3"
  },
  "language_info": {
   "name": "python",
   "version": "3.10.4 (main, Nov 29 2022, 20:00:25) [GCC 9.4.0]"
  },
  "orig_nbformat": 4,
  "vscode": {
   "interpreter": {
    "hash": "3ad933181bd8a04b432d3370b9dc3b0662ad032c4dfaa4e4f1596c548f763858"
   }
  }
 },
 "nbformat": 4,
 "nbformat_minor": 2
}
