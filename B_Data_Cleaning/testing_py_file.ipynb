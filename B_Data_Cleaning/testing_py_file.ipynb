{
 "cells": [
  {
   "cell_type": "code",
   "execution_count": 1,
   "metadata": {},
   "outputs": [
    {
     "data": {
      "text/plain": [
       "3"
      ]
     },
     "execution_count": 1,
     "metadata": {},
     "output_type": "execute_result"
    }
   ],
   "source": [
    "dict1 = {'a': 1, 'b': 2, 'c': 3}\n",
    "len(dict1)"
   ]
  },
  {
   "cell_type": "code",
   "execution_count": 1,
   "metadata": {},
   "outputs": [],
   "source": [
    "import pandas as pd"
   ]
  },
  {
   "cell_type": "code",
   "execution_count": 6,
   "metadata": {},
   "outputs": [
    {
     "name": "stdout",
     "output_type": "stream",
     "text": [
      "Review\n"
     ]
    }
   ],
   "source": [
    "df = pd.read_csv('cleaned_real_reviews.csv')\n",
    "# print the first column name\n",
    "print(df.columns[0])"
   ]
  },
  {
   "cell_type": "code",
   "execution_count": 3,
   "metadata": {},
   "outputs": [
    {
     "name": "stdout",
     "output_type": "stream",
     "text": [
      "this is wafi\n"
     ]
    }
   ],
   "source": [
    "def print_function(myword=False):\n",
    "    if myword is not False:\n",
    "        print(f'this is {myword}')\n",
    "    else:\n",
    "        print(\"False\")\n",
    "print_function(\"wafi\")"
   ]
  },
  {
   "cell_type": "code",
   "execution_count": 14,
   "metadata": {},
   "outputs": [],
   "source": [
    "def prepare_df(csv):\n",
    "    df = pd.read_csv(csv)\n",
    "    df[\"Review\"] = df[\"Review\"].astype(str)\n",
    "    df[\"set_column\"] = df[\"Review\"].apply(lambda x: set(x.split()))\n",
    "    df[\"review_len\"] = df[\"Review\"].apply(lambda x: len(x.split()))\n",
    "    return df"
   ]
  },
  {
   "cell_type": "code",
   "execution_count": 15,
   "metadata": {},
   "outputs": [],
   "source": [
    "def balance_df(df):\n",
    "    '''\n",
    "    This function takes in a dataframe\n",
    "    and returns a balanced dataframe \n",
    "    with 5250 recommended and 5250 not recommended reviews\n",
    "    (randomly sampled from the original dataframe)\n",
    "    '''\n",
    "    temp_recom = df.loc[df[\"Recommended or Not Recommended\"] == True,:]\n",
    "    temp_recom = temp_recom.sample(5250).reset_index(drop=True)\n",
    "    temp_not_recom = df.loc[df[\"Recommended or Not Recommended\"] == False,:]\n",
    "    temp_not_recom = temp_not_recom.sample(5250).reset_index(drop=True)\n",
    "    temp_df = pd.concat([temp_recom, temp_not_recom], axis=0)\n",
    "    return temp_recom"
   ]
  },
  {
   "cell_type": "code",
   "execution_count": 12,
   "metadata": {},
   "outputs": [
    {
     "data": {
      "text/html": [
       "<div>\n",
       "<style scoped>\n",
       "    .dataframe tbody tr th:only-of-type {\n",
       "        vertical-align: middle;\n",
       "    }\n",
       "\n",
       "    .dataframe tbody tr th {\n",
       "        vertical-align: top;\n",
       "    }\n",
       "\n",
       "    .dataframe thead th {\n",
       "        text-align: right;\n",
       "    }\n",
       "</style>\n",
       "<table border=\"1\" class=\"dataframe\">\n",
       "  <thead>\n",
       "    <tr style=\"text-align: right;\">\n",
       "      <th></th>\n",
       "      <th>Review</th>\n",
       "      <th>Recommended or Not Recommended</th>\n",
       "      <th>Date Timestamp Created</th>\n",
       "      <th>set_column</th>\n",
       "      <th>review_len</th>\n",
       "    </tr>\n",
       "  </thead>\n",
       "  <tbody>\n",
       "    <tr>\n",
       "      <th>0</th>\n",
       "      <td>game really amazing dont say problem main stor...</td>\n",
       "      <td>True</td>\n",
       "      <td>1608596132</td>\n",
       "      <td>{performance, chills, say, aberration, storyli...</td>\n",
       "      <td>133</td>\n",
       "    </tr>\n",
       "    <tr>\n",
       "      <th>1</th>\n",
       "      <td>thing beauty know will never fade away</td>\n",
       "      <td>True</td>\n",
       "      <td>1664469092</td>\n",
       "      <td>{thing, beauty, will, away, fade, know, never}</td>\n",
       "      <td>7</td>\n",
       "    </tr>\n",
       "    <tr>\n",
       "      <th>2</th>\n",
       "      <td>cyberpunk isnt game needs introduction review ...</td>\n",
       "      <td>True</td>\n",
       "      <td>1631304139</td>\n",
       "      <td>{addicting, views, literally, populated, stuff...</td>\n",
       "      <td>292</td>\n",
       "    </tr>\n",
       "    <tr>\n",
       "      <th>3</th>\n",
       "      <td>nailed someone cross sat watched die</td>\n",
       "      <td>True</td>\n",
       "      <td>1607891866</td>\n",
       "      <td>{nailed, someone, watched, cross, die, sat}</td>\n",
       "      <td>6</td>\n",
       "    </tr>\n",
       "    <tr>\n",
       "      <th>4</th>\n",
       "      <td>good morning night city</td>\n",
       "      <td>True</td>\n",
       "      <td>1607856106</td>\n",
       "      <td>{city, night, morning, good}</td>\n",
       "      <td>4</td>\n",
       "    </tr>\n",
       "    <tr>\n",
       "      <th>...</th>\n",
       "      <td>...</td>\n",
       "      <td>...</td>\n",
       "      <td>...</td>\n",
       "      <td>...</td>\n",
       "      <td>...</td>\n",
       "    </tr>\n",
       "    <tr>\n",
       "      <th>5245</th>\n",
       "      <td>game fun</td>\n",
       "      <td>True</td>\n",
       "      <td>1607747740</td>\n",
       "      <td>{fun, game}</td>\n",
       "      <td>2</td>\n",
       "    </tr>\n",
       "    <tr>\n",
       "      <th>5246</th>\n",
       "      <td>newer syndicate baby deus ex dying light alter...</td>\n",
       "      <td>True</td>\n",
       "      <td>1607632575</td>\n",
       "      <td>{much, sort, computer, carbon, wasnt, subversi...</td>\n",
       "      <td>35</td>\n",
       "    </tr>\n",
       "    <tr>\n",
       "      <th>5247</th>\n",
       "      <td>give badge</td>\n",
       "      <td>True</td>\n",
       "      <td>1669224719</td>\n",
       "      <td>{give, badge}</td>\n",
       "      <td>2</td>\n",
       "    </tr>\n",
       "    <tr>\n",
       "      <th>5248</th>\n",
       "      <td>come moxies give mind fuck whole new meaning</td>\n",
       "      <td>True</td>\n",
       "      <td>1607723294</td>\n",
       "      <td>{moxies, come, new, give, meaning, whole, mind...</td>\n",
       "      <td>8</td>\n",
       "    </tr>\n",
       "    <tr>\n",
       "      <th>5249</th>\n",
       "      <td>cyberpunk huge hype unfortunate release cdpr s...</td>\n",
       "      <td>True</td>\n",
       "      <td>1638746699</td>\n",
       "      <td>{huge, cyberpunk, started, hype, amazing, over...</td>\n",
       "      <td>14</td>\n",
       "    </tr>\n",
       "  </tbody>\n",
       "</table>\n",
       "<p>5250 rows × 5 columns</p>\n",
       "</div>"
      ],
      "text/plain": [
       "                                                 Review  \\\n",
       "0     game really amazing dont say problem main stor...   \n",
       "1                thing beauty know will never fade away   \n",
       "2     cyberpunk isnt game needs introduction review ...   \n",
       "3                  nailed someone cross sat watched die   \n",
       "4                               good morning night city   \n",
       "...                                                 ...   \n",
       "5245                                           game fun   \n",
       "5246  newer syndicate baby deus ex dying light alter...   \n",
       "5247                                         give badge   \n",
       "5248       come moxies give mind fuck whole new meaning   \n",
       "5249  cyberpunk huge hype unfortunate release cdpr s...   \n",
       "\n",
       "      Recommended or Not Recommended  Date Timestamp Created  \\\n",
       "0                               True              1608596132   \n",
       "1                               True              1664469092   \n",
       "2                               True              1631304139   \n",
       "3                               True              1607891866   \n",
       "4                               True              1607856106   \n",
       "...                              ...                     ...   \n",
       "5245                            True              1607747740   \n",
       "5246                            True              1607632575   \n",
       "5247                            True              1669224719   \n",
       "5248                            True              1607723294   \n",
       "5249                            True              1638746699   \n",
       "\n",
       "                                             set_column  review_len  \n",
       "0     {performance, chills, say, aberration, storyli...         133  \n",
       "1        {thing, beauty, will, away, fade, know, never}           7  \n",
       "2     {addicting, views, literally, populated, stuff...         292  \n",
       "3           {nailed, someone, watched, cross, die, sat}           6  \n",
       "4                          {city, night, morning, good}           4  \n",
       "...                                                 ...         ...  \n",
       "5245                                        {fun, game}           2  \n",
       "5246  {much, sort, computer, carbon, wasnt, subversi...          35  \n",
       "5247                                      {give, badge}           2  \n",
       "5248  {moxies, come, new, give, meaning, whole, mind...           8  \n",
       "5249  {huge, cyberpunk, started, hype, amazing, over...          14  \n",
       "\n",
       "[5250 rows x 5 columns]"
      ]
     },
     "execution_count": 12,
     "metadata": {},
     "output_type": "execute_result"
    }
   ],
   "source": [
    "def combine_df()\n",
    "\n",
    "df = prepare_df(\"cleaned_real_reviews.csv\")\n",
    "# temp_recom, temp_not_recom = balance_df(df)\n",
    "# temp_not_recom\n",
    "balance_df(df)"
   ]
  }
 ],
 "metadata": {
  "kernelspec": {
   "display_name": "Python 3",
   "language": "python",
   "name": "python3"
  },
  "language_info": {
   "codemirror_mode": {
    "name": "ipython",
    "version": 3
   },
   "file_extension": ".py",
   "mimetype": "text/x-python",
   "name": "python",
   "nbconvert_exporter": "python",
   "pygments_lexer": "ipython3",
   "version": "3.10.4"
  },
  "orig_nbformat": 4,
  "vscode": {
   "interpreter": {
    "hash": "3ad933181bd8a04b432d3370b9dc3b0662ad032c4dfaa4e4f1596c548f763858"
   }
  }
 },
 "nbformat": 4,
 "nbformat_minor": 2
}
